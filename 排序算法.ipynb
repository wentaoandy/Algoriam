{
  "nbformat": 4,
  "nbformat_minor": 0,
  "metadata": {
    "colab": {
      "provenance": [],
      "authorship_tag": "ABX9TyPvAr4JNxhXrFukvWheXXyW",
      "include_colab_link": true
    },
    "kernelspec": {
      "name": "python3",
      "display_name": "Python 3"
    },
    "language_info": {
      "name": "python"
    }
  },
  "cells": [
    {
      "cell_type": "markdown",
      "metadata": {
        "id": "view-in-github",
        "colab_type": "text"
      },
      "source": [
        "<a href=\"https://colab.research.google.com/github/wentaoandy/Algoriam/blob/main/%E6%8E%92%E5%BA%8F%E7%AE%97%E6%B3%95.ipynb\" target=\"_parent\"><img src=\"https://colab.research.google.com/assets/colab-badge.svg\" alt=\"Open In Colab\"/></a>"
      ]
    },
    {
      "cell_type": "markdown",
      "source": [
        "# 堆排序\n",
        "\n",
        "堆排序（Heap Sort）是一种高效的原地排序算法，它巧妙地利用了“堆”数据结构。其核心思想是首先将待排序的数组重构成一个最大堆（Max Heap）。在最大堆中，根节点（数组的第一个元素）始终是所有元素中的最大值。\n",
        "\n",
        "构建好最大堆后，算法将堆顶的最大元素与堆末尾的元素交换，从而将当前的最大值放置到数组的正确最终位置。接着，将堆的大小减一，并对剩余的元素进行“堆化”调整，确保新的根节点仍然是剩余元素中的最大值。此过程不断重复——交换、缩小堆、重新堆化——直到所有元素都被放置到其最终的有序位置，完成整个排序。\n",
        "\n",
        "## 堆的特性\n",
        "\n",
        "- **完全二叉树**：堆是一个完全二叉树，除了最底层外，其他层的节点都是满的，最底层的节点从左到右填充。\n",
        "- **最大堆/最小堆**：在最大堆中，每个节点的值都大于或等于其子节点的值；在最小堆中，每个节点的值都小于或等于其子节点的值。\n",
        "\n",
        "### 堆的数组表示\n",
        "\n",
        "虽然堆是一种树结构，但是也可以用数组高效地表示，这是堆的一个重要特性。\n",
        "\n",
        "对于数组中索引为 `i` 的节点：\n",
        "- 其左子节点的索引为 `2*i + 1`\n",
        "- 其右子节点的索引为 `2*i + 2`\n",
        "\n",
        "这种表示方法非常紧凑，不需要使用额外的指针，充分利用了完全二叉树的性质。\n",
        "\n",
        "## 算法步骤\n",
        "\n",
        "1. 将无序序列构建成一个最大堆。\n",
        "2. 将堆顶元素（最大值）与堆的最后一个元素交换。\n",
        "3. 剔除最后一个元素（已排序），将剩余元素重新构建为最大堆。\n",
        "4. 重复步骤2和3，直到堆中只剩下一个元素。\n",
        "\n",
        "## 核心特性\n",
        "\n",
        "- **堆数据结构**：利用完全二叉树的性质，可以用数组高效表示。\n",
        "- **原地排序**：只需要常数级的额外空间。\n",
        "- **时间复杂度**：建堆时间为O(n)，排序时间为O(nlogn)，总体时间复杂度为O(nlogn)。\n",
        "- **不稳定性**：相等元素的相对位置在排序后可能会改变。\n",
        "- **自适应性**：对于部分有序或完全无序的数据，性能比较稳定。"
      ],
      "metadata": {
        "id": "le3FjxGwXRpp"
      }
    },
    {
      "cell_type": "code",
      "source": [
        "def heap_sort(arr):\n",
        "    n = len(arr)\n",
        "\n",
        "    # 构建最大堆\n",
        "    for i in range(n // 2 - 1, -1, -1):\n",
        "        heapify(arr, n, i)\n",
        "\n",
        "    # 逐个从堆顶取出元素\n",
        "    for i in range(n - 1, 0, -1):\n",
        "        # 将当前堆顶（最大值）移到末尾\n",
        "        arr[i], arr[0] = arr[0], arr[i]\n",
        "\n",
        "        # 对剩余元素重新构建最大堆\n",
        "        heapify(arr, i, 0)\n",
        "\n",
        "    return arr\n",
        "\n",
        "def heapify(arr, n, root):\n",
        "    largest = root      # 初始化最大值为根节点\n",
        "    left = 2 * root + 1 # 左子节点\n",
        "    right = 2 * root + 2 # 右子节点\n",
        "\n",
        "    # 如果左子节点大于根节点\n",
        "    if left < n and arr[left] > arr[largest]:\n",
        "        largest = left\n",
        "\n",
        "    # 如果右子节点大于当前最大值\n",
        "    if right < n and arr[right] > arr[largest]:\n",
        "        largest = right\n",
        "\n",
        "    # 如果最大值不是根节点\n",
        "    if largest != root:\n",
        "        # 交换根节点和最大值\n",
        "        arr[root], arr[largest] = arr[largest], arr[root]\n",
        "\n",
        "        # 递归调整被影响的子树\n",
        "        heapify(arr, n, largest)\n",
        "\n",
        "# 测试\n",
        "arr = [12, 11, 13, 5, 6, 7]\n",
        "print(\"排序前：\", arr)\n",
        "heap_sort(arr)\n",
        "print(\"排序后：\", arr)\n"
      ],
      "metadata": {
        "id": "njWQiwscXTen"
      },
      "execution_count": null,
      "outputs": []
    },
    {
      "cell_type": "markdown",
      "source": [
        "快速排序\n",
        "\n",
        "# 快速排序算法简介\n",
        "\n",
        "## 简介\n",
        "\n",
        "快速排序（Quick Sort）是一种极其高效的分治排序算法，也是实际应用中最常用的排序算法之一。\n",
        "\n",
        "## 核心思想\n",
        "\n",
        "1. **选基准(pivot)**：首先，从数组中任意选择一个元素作为“基准”。\n",
        "2. **站队**：接着，重新排列数组，将所有小于基准的元素移动到基准的左边，所有大于等于基准的元素移动到右边。这一步完成后，该基准元素就找到了它在最终有序序列中的“最终位置”。\n",
        "3. **分而治之**：最后，对基准左右两边的子数组（现在它们是两个独立的、更小的问题），递归地重复上述过程，直到每个子数组都排序完毕。\n",
        "\n",
        "通过这种巧妙的“分而治之”策略，快速排序能将一个大问题不断分解成小问题来解决，平均时间复杂度能达到卓越的 O(nlogn)。\n",
        "\n",
        "## 算法步骤\n",
        "\n",
        "1. 从数列中选择一个元素作为\"基准\"，本文采用最左侧元素作为基准。\n",
        "2. 将所有比基准值小的元素放到基准前面，所有比基准值大的元素放到基准后面（分区操作）。\n",
        "3. 对基准左右两个子序列分别重复步骤1和2，直到子序列只有一个元素或为空。\n",
        "\n",
        "## 核心特性\n",
        "\n",
        "- **分治策略**：将问题分解为更小的子问题，逐步解决。\n",
        "- **原地排序**：只需要 O(logn) 的额外空间复杂度（主要用于递归调用的栈空间）。\n",
        "- **时间复杂度**：\n",
        "  - 平均情况为 O(nlogn)\n",
        "  - 最坏情况为 O(n²)\n",
        "  - 最好情况为 O(nlogn)\n",
        "- **不稳定性**：相等元素的相对位置在排序后可能会改变。\n",
        "- **高效性**：在实际应用中，快速排序通常是最快的排序算法之一。\n",
        "\n",
        "## 基础实现\n",
        "\n",
        "接下来大家一起看下快速排序的部分主流语言实现："
      ],
      "metadata": {
        "id": "DiD5UrbYZg0i"
      }
    }
  ]
}